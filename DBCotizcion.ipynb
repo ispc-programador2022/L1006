{
 "cells": [
  {
   "cell_type": "code",
   "execution_count": 1,
   "id": "d26f11a9",
   "metadata": {},
   "outputs": [
    {
     "name": "stdout",
     "output_type": "stream",
     "text": [
      "     Unnamed: 0                        MONEDAS  COMPRA   VENTA\n",
      "0             0                     DÓLAR BLUE  304.00  308.00\n",
      "1             1                      DÓLAR BNA  161.00  169.00\n",
      "2             2                DÓLAR CDO C/LIQ  321.64  325.56\n",
      "3             3                      DÓLAR MEP  308.91  309.43\n",
      "4             4              DÓLAR MEP Contado  309.00  309.62\n",
      "..          ...                            ...     ...     ...\n",
      "152         152                      CFA FRANC  632.89  654.91\n",
      "153         153              SOUTH AFRICA RAND   17.26   17.27\n",
      "154         154               NEWZAMBIANKWACHA   16.53   16.58\n",
      "155         155                ZIMBABWE DOLLAR  378.00  381.00\n",
      "156         156  DÓLAR MAYORISTA PARA EMPRESAS  162.48  162.50\n",
      "\n",
      "[157 rows x 4 columns]\n",
      "[[0, 'DÓLAR BLUE', '304.00', '308.00'], [1, 'DÓLAR BNA', '161.00', '169.00'], [2, 'DÓLAR CDO C/LIQ', '321.64', '325.56'], [3, 'DÓLAR MEP', '308.91', '309.43'], [4, 'DÓLAR MEP Contado', '309.00', '309.62'], [5, 'DÓLAR SOLIDARIO', nan, '278.85'], [6, 'DÓLAR TARJETA', '281.75', '295.75'], [7, 'DÓLAR TURISTA', '322.00', '338.00'], [8, 'EURO', '168.80', '168.89'], [9, 'EURO USD', '1.04', '1.04'], [10, 'REAL', '30.09', '30.09'], [11, 'PESO CHILENO', '17.79', '17.83'], [12, 'PESO URUGUAYO', '4.09', '4.09'], [13, 'DÓLAR MAYORISTA', '162.27', '162.47'], [14, 'PESO CHILENO', '911.15', '913.35'], [15, 'PESO COLOMBIANO', '4.936.00', '4.938.00'], [16, 'PESO MEXICANO', '19.30', '19.31'], [17, 'SOL PERUANO', '3.83', '3.83'], [18, 'GUARANI', '7.159.37', '7.181.94'], [19, 'PESO URUGUAYO', '39.71', '39.74'], [20, 'GUATEMALA QUETZAL', '7.78', '7.84'], [21, 'UAE DIRHAM', '3.67', '3.67'], [22, 'AF AFGHANI', '88.57', '88.77'], [23, 'ALBANIAN LEK', '112.02', '112.90'], [24, 'ARMENIAN DRAM', '394.14', '396.14'], [25, 'NTH ANTIL GUILDER', '1.78', '1.82'], [26, 'ANGOLAN KWANZA', '499.58', '512.98'], [27, 'AUSTRALIAN DOLLAR', '0.67', '0.67'], [28, 'ARUBA GUILDER', '1.78', '1.84'], [29, 'AZ NEW MANAT', '1.70', '1.71'], [30, 'BOSNIAN MARK', '1.88', '1.89'], [31, 'BARBADOS DOLLAR', '2.00', '2.04'], [32, 'BURUNDI FRANC', '2.038.60', '2.100.00'], [33, 'BANGLADESH TAKA', '102.60', '103.20'], [34, 'BNG', 'N/D', 'N/D'], [35, 'BAHRANI DINAR', '0.38', '0.38'], [36, 'BERMUDA DOLLAR', '1.00', '1.00'], [37, 'BOLIVIANO', '6.86', '7.01'], [38, 'REAL', '4.02', '4.02'], [39, 'BAHAMIAN DOLLAR', '1.00', '1.00'], [40, 'BHUTAN NGULTRUM', '81.24', '81.26'], [41, 'BOTSWANA PULA', '0.08', '0.08'], [42, 'BELIZE DOLLAR', '2.00', '2.03'], [43, 'CANADIAN DOLLAR', '1.33', '1.33'], [44, 'CONGO FRANC', '2.010.00', '2.100.00'], [45, 'SWISS FRANC', '0.94', '0.94'], [46, 'YUAN CHINO', '7.08', '7.09'], [47, 'COSTA RICA COLON', '609.60', '612.25'], [48, 'CUBAN PESO', '24.00', '24.00'], [49, 'CAPE VERDE ESCUDO', '106.06', '107.07'], [50, 'CZECH KORUNA', '23.44', '23.46'], [51, 'DIJIBOUTI FRANC', '177.50', '178.55'], [52, 'DANISH KRONE', '7.16', '7.16'], [53, 'DOMINICAN PESO', '54.23', '54.71'], [54, 'ALGERIAN DINAR', '137.77', '139.15'], [55, 'EGYPT POUND', '24.46', '24.51'], [56, 'ERITREA NAFKA', '15.00', '15.15'], [57, 'ETHIOPIAN BIRR', '52.96', '53.85'], [58, 'FIJI DOLLAR', '0.44', '0.46'], [59, 'FALKLANDS POUND', '1.19', '1.19'], [60, 'BRITISH POUND', '1.19', '1.19'], [61, 'GEORGIAN LARI', '2.71', '2.74'], [62, 'GHANAIAN CEDI', '14.00', '15.00'], [63, 'GIBRALTAR POUND', '1.19', '1.19'], [64, 'GAMBIAN DALASI', '61.65', '65.00'], [65, 'GUINEA FRANC', '8.544.00', '8.685.00'], [66, 'GUYANA DOLLAR', '207.98', '210.45'], [67, 'HONGKONG DOLLAR', '7.82', '7.82'], [68, 'HONDURAS LEMPIRA', '24.63', '24.80'], [69, 'CROATIAN KUNA', '7.26', '7.26'], [70, 'HAITI GOURDE', '135.00', '139.00'], [71, 'HUNGARIAN FORINT', '393.78', '394.23'], [72, 'INDONESIA RUPIAH', '15.568.17', '15.605.00'], [73, 'ISRAEL SHEKEL', '3.43', '3.43'], [74, 'INDIAN RUPEE', '81.48', '81.51'], [75, 'IRAQI DINAR', '1.458.50', '1.460.50'], [76, 'IRAN RIAL', '42.000.00', '0.00'], [77, 'ICELAND KRONA', '143.10', '143.44'], [78, 'JAMAICAN DOLLAR', '152.00', '156.00'], [79, 'JORDAN DINAR', '0.71', '0.71'], [80, 'JAPANESE YEN', '139.46', '139.47'], [81, 'KENYA SHILLING', '121.90', '122.10'], [82, 'KYRGYZSTAN SOM', '84.42', '84.48'], [83, 'CAMBODIA RIEL', '4.130.00', '4.150.00'], [84, 'COMORO FRANC', '473.02', '475.02'], [85, 'NTH KOREA WON', '130.00', '0.00'], [86, 'KOREAN WON', '1.337.02', '1.338.32'], [87, 'KUWAITI DINAR', '0.31', '0.31'], [88, 'CAYMAN IS. DOLLAR', '0.83', '0.84'], [89, 'KAZAKHSTAN TENGE', '459.69', '460.23'], [90, 'LAO KIP', '16.910.00', '16.980.00'], [91, 'LEBANON POUND', '1.505.70', '1.518.70'], [92, 'SRI LANKA RUPEE', '363.00', '372.00'], [93, 'LIBERIAN DOLLAR', '152.80', '155.80'], [94, 'LESOTHO LOTI', '17.26', '17.28'], [95, 'LIBYAN DINAR', '4.88', '4.90'], [96, 'MOROCCAN DIRHAM', '10.69', '10.69'], [97, 'MOLDOVAN LEU', '19.04', '19.14'], [98, 'MALAGASY ARIARY', '4.292.00', '4.350.00'], [99, 'MACEDONIA DENAR', '59.26', '59.49'], [100, 'MYANMAR KYAT', '2.093.70', '2.106.30'], [101, 'MONGOLIA TUGRIK', '3.391.00', '3.441.00'], [102, 'MACAU PATACA', '8.06', '8.07'], [103, 'MAURITIUS RUPEE', '43.55', '43.85'], [104, 'MALDIVES RUFIYAA', '15.42', '15.50'], [105, 'MALAYSIA RINGGIT', '4.54', '4.55'], [106, 'MOZAMBIQUE METICAL', '63.24', '65.00'], [107, 'NAMIBIAN DOLLAR', '17.26', '17.27'], [108, 'NIGERIAN NAIRA', '441.19', '442.19'], [109, 'NICARAGUA CORDOBA', '35.99', '36.00'], [110, 'NORWEGIAN KRONE', '10.00', '10.01'], [111, 'NEPALESE RUPEE', '130.08', '130.09'], [112, 'NEW ZEALAND $', '0.61', '0.62'], [113, 'OMANI RIAL', '0.38', '0.39'], [114, 'PAPUA NEW GUINEA', '0.28', '0.29'], [115, 'PHILIPPINE PESO', '57.42', '57.44'], [116, 'PAKISTAN RUPEE', '222.05', '222.85'], [117, 'POLISH ZLOTY', '4.52', '4.52'], [118, 'QATARI RIAL', '3.66', '3.66'], [119, 'ROMANIAN LEU', '4.73', '4.74'], [120, 'SERBIAN DINAR', '112.65', '112.85'], [121, 'RUSSIA ROUBLE', '59.78', '61.78'], [122, 'RWANDA FRANC', '1.043.76', '1.060.76'], [123, 'SAUDI RIYAL', '3.76', '3.76'], [124, 'SOLOMON IS DOLLAR', '0.12', '0.12'], [125, 'SC RUPEE', '13.60', '13.60'], [126, 'SUDANESE POUND', '565.15', '568.49'], [127, 'SWEDISH KRONA', '10.48', '10.49'], [128, 'SINGAPORE DOLLAR', '1.37', '1.37'], [129, 'ST HELENA POUND', '1.20', '1.20'], [130, 'CHINESE YUAN', '7.11', '7.11'], [131, 'SIERRA LEON LEON', '17.915.00', '18.140.00'], [132, 'SOMALI SHILLING', '565.00', '572.00'], [133, 'SR DOLLAR', '30.02', '30.07'], [134, 'EL SALVADOR COLON', '8.75', '8.76'], [135, 'SYRIAN POUND', '2.511.00', '2.514.00'], [136, 'SWAZILAND LILAGENI', '17.26', '17.27'], [137, 'THAI BAHT', '35.78', '35.83'], [138, 'TAJIKISTANI SOMONI', '10.12', '10.21'], [139, 'TURKMEN MANAT', '3.49', '3.50'], [140, 'TUNISIAN DINAR', '3.13', '3.13'], [141, 'TONGA PAANGA', '0.41', '0.43'], [142, 'TURKISH LIRA', '18.59', '18.60'], [143, 'TRIN TOB DOLLAR', '6.76', '6.83'], [144, 'TAIWAN DOLLAR', '31.11', '31.14'], [145, 'TANZANIA SHILLING', '2.325.00', '2.335.00'], [146, 'UKRAINE HRYVNIA', '36.50', '36.93'], [147, 'UGANDA SHILLING', '3.745.00', '3.755.00'], [148, 'UZBEKISTAN SUM', '11.179.76', '11.189.76'], [149, 'VIETNAM DONG', '24.775.00', '24.795.00'], [150, 'VANUATU VATU', '117.30', '122.30'], [151, 'SAMOA TALA', '0.36', '0.37'], [152, 'CFA FRANC', '632.89', '654.91'], [153, 'SOUTH AFRICA RAND', '17.26', '17.27'], [154, 'NEWZAMBIANKWACHA', '16.53', '16.58'], [155, 'ZIMBABWE DOLLAR', '378.00', '381.00'], [156, 'DÓLAR MAYORISTA PARA EMPRESAS', '162.48', '162.50']]\n"
     ]
    }
   ],
   "source": [
    "import sqlite3 as sql\n",
    "import pandas as pd\n",
    "\n",
    "#Realizamos la conexión a la base de datos\n",
    "def createDB():\n",
    "    conexion = sql.connect(\"BDCotizacion.db\")\n",
    "    conexion.commit()\n",
    "    conexion.close()\n",
    "\n",
    "\n",
    "#Creamos la tabla DBCotizacion    \n",
    "def createTable():\n",
    "    conexion = sql.connect(\"DBCotizacion.db\")\n",
    "    cursor = conexion.cursor()\n",
    "    cursor.execute(\n",
    "        \"\"\"CREATE TABLE DBCotizacion(\n",
    "            Codigo integer,\n",
    "            Moneda text,\n",
    "            Compra float,\n",
    "            Venta float)\n",
    "        \"\"\")\n",
    "    conexion.commit()\n",
    "    conexion.close()\n",
    "\n",
    "#Insertamos la información en la base de datos    \n",
    "def insertRow(datos):\n",
    "    conexion = sql.connect(\"DBCotizacion.db\")\n",
    "    cursor = conexion.cursor()\n",
    "    query = \"INSERT INTO DBCotizacion(codigo,moneda,compra,venta) VALUES(?,?,?,?)\"\n",
    "    cursor.execute(query,datos)\n",
    "    conexion.commit()\n",
    "    conexion.close()\n",
    "\n",
    "\n",
    "    \n",
    "if __name__ == \"__main__\":\n",
    "    \n",
    "    #Leemos el archivo CSV\n",
    "    cotizacion = pd.read_csv(\"C:/Users/manu_/Marcado online.csv\")\n",
    "    print(cotizacion)\n",
    "    \n",
    "    #Transformamos las filas del DF en una lista para luego insertarlas en una base de datos\n",
    "    Lista_valores = cotizacion.values.tolist()\n",
    "    print(Lista_valores)\n",
    "    \n",
    "    #Creamos la base de datos, la tabla y cargamos la base de datos con los valores en la lista\n",
    "    createDB()\n",
    "    createTable()\n",
    "    for i in Lista_valores:\n",
    "        datos = i\n",
    "        insertRow(datos)"
   ]
  }
 ],
 "metadata": {
  "kernelspec": {
   "display_name": "Python 3.10.5 64-bit",
   "language": "python",
   "name": "python3"
  },
  "language_info": {
   "codemirror_mode": {
    "name": "ipython",
    "version": 3
   },
   "file_extension": ".py",
   "mimetype": "text/x-python",
   "name": "python",
   "nbconvert_exporter": "python",
   "pygments_lexer": "ipython3",
   "version": "3.10.5"
  },
  "vscode": {
   "interpreter": {
    "hash": "dedba10921ee50a976e7fe4ea6827f442008771fd74e2fca80684a9609ef59b1"
   }
  }
 },
 "nbformat": 4,
 "nbformat_minor": 5
}
