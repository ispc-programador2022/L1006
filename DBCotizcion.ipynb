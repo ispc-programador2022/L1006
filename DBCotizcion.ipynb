{
 "cells": [
  {
   "cell_type": "code",
   "execution_count": null,
   "id": "d26f11a9",
   "metadata": {},
   "outputs": [],
   "source": [
    "import sqlite3 as sql\n",
    "import pandas as pd\n",
    "\n",
    "def createDB():\n",
    "    conexion = sql.connect(\"BDCotizacion.db\")\n",
    "    conexion.commit()\n",
    "    conexion.close()\n",
    "\n",
    "    \n",
    "def createTable():\n",
    "    conexion = sql.connect(\"DBCotizacion.db\")\n",
    "    cursor = conexion.cursor()\n",
    "    cursor.execute(\n",
    "        \"\"\"CREATE TABLE DBCotizacion(\n",
    "            Codigo integer,\n",
    "            Moneda text,\n",
    "            Compra float,\n",
    "            Venta float)\n",
    "        \"\"\")\n",
    "    conexion.commit()\n",
    "    conexion.close()\n",
    "    \n",
    "def insertRow(datos):\n",
    "    conexion = sql.connect(\"DBCotizacion.db\")\n",
    "    cursor = conexion.cursor()\n",
    "    query = \"INSERT INTO DBCotizacion(codigo,moneda,compra,venta) VALUES(?,?,?,?)\"\n",
    "    cursor.execute(query,datos)\n",
    "    conexion.commit()\n",
    "    conexion.close()\n",
    "\n",
    "\n",
    "    \n",
    "if __name__ == \"__main__\":\n",
    "    \n",
    "    #Leemos el archivo CSV\n",
    "    cotizacion = pd.read_csv(\"C:/Users/manu_/Marcado online.csv\")\n",
    "    print(cotizacion)\n",
    "    \n",
    "    #Transformamos las filas del DF en una lista para luego insertarlas en una base de datos\n",
    "    Lista_valores = cotizacion.values.tolist()\n",
    "    print(Lista_valores)\n",
    "    \n",
    "    #Creao y cargo la base de datos con los valores en la lista\n",
    "    createDB()\n",
    "    createTable()\n",
    "    for i in Lista_valores:\n",
    "        datos = i\n",
    "        insertRow(datos)"
   ]
  }
 ],
 "metadata": {
  "kernelspec": {
   "display_name": "Python 3 (ipykernel)",
   "language": "python",
   "name": "python3"
  },
  "language_info": {
   "codemirror_mode": {
    "name": "ipython",
    "version": 3
   },
   "file_extension": ".py",
   "mimetype": "text/x-python",
   "name": "python",
   "nbconvert_exporter": "python",
   "pygments_lexer": "ipython3",
   "version": "3.9.12"
  }
 },
 "nbformat": 4,
 "nbformat_minor": 5
}
